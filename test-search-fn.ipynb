{
 "cells": [
  {
   "cell_type": "code",
   "execution_count": 44,
   "metadata": {},
   "outputs": [],
   "source": [
    "from phi.assistant import Assistant\n",
    "from phi.tools.duckduckgo import DuckDuckGo\n",
    "from phi.llm.openai import OpenAIChat\n",
    "from dotenv import load_dotenv\n",
    "from datetime import datetime\n",
    "from typing import List\n",
    "from pydantic import BaseModel, Field\n",
    "from rich.pretty import pprint\n",
    "import os\n",
    "\n",
    "load_dotenv()\n",
    "\n",
    "OPENAI_API_KEY = os.getenv(\"OPENAI_API_KEY\")"
   ]
  },
  {
   "cell_type": "code",
   "execution_count": 53,
   "metadata": {},
   "outputs": [],
   "source": [
    "class FundingScript(BaseModel):\n",
    "    name: str = Field(..., description=\"The scholarship name\")\n",
    "    description: str = Field(..., description=\"The description of the scholarship\")\n",
    "    deadline: str = Field(..., description=\"The deadline of the scholarship\")\n",
    "    source: str = Field(..., description=\"The website link or source of the scholarship\")\n",
    "\n",
    "assistant = Assistant(\n",
    "    llm=OpenAIChat(model=\"gpt-4o-mini\"),\n",
    "    description=\"You are a scholarship expert and your job is to do a web search to find latest scholarships or funding sources for students.\",\n",
    "    instructions=[\"Always recommend up to 5 scholarships\", \"Summarize your response in less than 250 words!\", \"Recommend scholarships that has a deadline date greater than the current date\"],\n",
    "    tools=[DuckDuckGo()],\n",
    "    add_datetime_to_instructions=True,\n",
    "    add_references_to_prompt=True,\n",
    ")"
   ]
  },
  {
   "cell_type": "code",
   "execution_count": 54,
   "metadata": {},
   "outputs": [
    {
     "data": {
      "application/vnd.jupyter.widget-view+json": {
       "model_id": "4ed459918e4b45308259b07fdfd74a82",
       "version_major": 2,
       "version_minor": 0
      },
      "text/plain": [
       "Output()"
      ]
     },
     "metadata": {},
     "output_type": "display_data"
    },
    {
     "data": {
      "text/html": [
       "<pre style=\"white-space:pre;overflow-x:auto;line-height:normal;font-family:Menlo,'DejaVu Sans Mono',consolas,'Courier New',monospace\"></pre>\n"
      ],
      "text/plain": []
     },
     "metadata": {},
     "output_type": "display_data"
    }
   ],
   "source": [
    "assistant.print_response(\"Recommend fully-funded graduate scholarships for international students\")"
   ]
  },
  {
   "cell_type": "code",
   "execution_count": 52,
   "metadata": {},
   "outputs": [
    {
     "name": "stdout",
     "output_type": "stream",
     "text": [
      "llm=OpenAIChat(model='gpt-4o-mini', name='OpenAIChat', metrics={'response_times': [1.9940340416505933, 3.8503366662189364], 'prompt_tokens': 1140, 'completion_tokens': 331, 'input_tokens': 1140, 'output_tokens': 331, 'total_tokens': 1471, 'tool_call_times': {'duckduckgo_search': [1.472785625141114]}, 'time_to_first_token': ['1.6221s'], 'tokens_per_second': ['77.9153']}, response_format=None, tools=[{'type': 'function', 'function': {'name': 'duckduckgo_search', 'description': 'Use this function to search DuckDuckGo for a query.\\n\\nArgs:\\n    query(str): The query to search for.\\n    max_results (optional, default=5): The maximum number of results to return.\\n\\nReturns:\\n    The result from DuckDuckGo.', 'parameters': {'type': 'object', 'properties': {'query': {'type': 'string'}, 'max_results': {'type': 'number'}}}}}, {'type': 'function', 'function': {'name': 'duckduckgo_news', 'description': 'Use this function to get the latest news from DuckDuckGo.\\n\\nArgs:\\n    query(str): The query to search for.\\n    max_results (optional, default=5): The maximum number of results to return.\\n\\nReturns:\\n    The latest news from DuckDuckGo.', 'parameters': {'type': 'object', 'properties': {'query': {'type': 'string'}, 'max_results': {'type': 'number'}}}}}], tool_choice=None, run_tools=True, show_tool_calls=False, functions={'duckduckgo_search': Function(name='duckduckgo_search', description='Use this function to search DuckDuckGo for a query.\\n\\nArgs:\\n    query(str): The query to search for.\\n    max_results (optional, default=5): The maximum number of results to return.\\n\\nReturns:\\n    The result from DuckDuckGo.', parameters={'type': 'object', 'properties': {'query': {'type': 'string'}, 'max_results': {'type': 'number'}}}, entrypoint=<function DuckDuckGo.duckduckgo_search at 0x109fa7f60>, sanitize_arguments=True), 'duckduckgo_news': Function(name='duckduckgo_news', description='Use this function to get the latest news from DuckDuckGo.\\n\\nArgs:\\n    query(str): The query to search for.\\n    max_results (optional, default=5): The maximum number of results to return.\\n\\nReturns:\\n    The latest news from DuckDuckGo.', parameters={'type': 'object', 'properties': {'query': {'type': 'string'}, 'max_results': {'type': 'number'}}}, entrypoint=<function DuckDuckGo.duckduckgo_news at 0x109fcbc40>, sanitize_arguments=True)}, function_call_limit=10, function_call_stack=[FunctionCall(function=Function(name='duckduckgo_search', description='Use this function to search DuckDuckGo for a query.\\n\\nArgs:\\n    query(str): The query to search for.\\n    max_results (optional, default=5): The maximum number of results to return.\\n\\nReturns:\\n    The result from DuckDuckGo.', parameters={'type': 'object', 'properties': {'query': {'type': 'string'}, 'max_results': {'type': 'number'}}}, entrypoint=<function DuckDuckGo.duckduckgo_search at 0x109fa7f60>, sanitize_arguments=True), arguments={'query': 'fully funded graduate scholarships for international students 2024', 'max_results': 5}, result='[\\n  {\\n    \"title\": \"Fully Funded Scholarships 2024-2025 List - Updated\",\\n    \"href\": \"https://www.scholarshipsads.com/category/funding/fully-funded/\",\\n    \"body\": \"Discover a curated list of fully funded government scholarships for 2024 - 2025, tailored for international students and those aiming to study abroad without the IELTS requirement. These scholarships not only cover tuition but also accommodation and other academic-related expenses. From merit-based awards to university sponsorships, find opportunities suitable for undergraduates, postgraduates ...\"\\n  },\\n  {\\n    \"title\": \"8 international scholarships you can still apply for 2024 entry\",\\n    \"href\": \"https://www.studyinternational.com/news/international-scholarship/\",\\n    \"body\": \"The Yale University Scholarship for the academic year 2024 to 2025 is a fully funded scholarship for international students to join its undergraduate, master\\'s and PhD programmes. The value can vary from a few hundred dollars to over US$70,000 annually; the average Yale need-based scholarship is over US$50,000.\"\\n  },\\n  {\\n    \"title\": \"Fully Funded Postgraduate Scholarships For International Students 2024 ...\",\\n    \"href\": \"https://www.scholarshiptab.com/postgraduate/fully-funded\",\\n    \"body\": \"DAAD Research Grants in Germany Call for Application 2025 (Fully-funded) DAAD research grant offers the opportunity to realise a research project in Germany. The programme sup-ports research stays during a doctorate or in the early postdoc phase. Published: 31 Jul 2024 Type: Postgraduate Study in: Germany Deadline: 03 Apr 2025.\"\\n  },\\n  {\\n    \"title\": \"67 Fully Funded Scholarships for International Students\",\\n    \"href\": \"https://globalscholarships.com/fully-funded-scholarships/\",\\n    \"body\": \"Top Fully Funded Scholarships for International Students. 1. Harvard University Scholarship. Scholarship Link. Scholarship Amount for Master\\'s and PhD: Full tuition and a living stipend. Harvard University is a private Ivy League research university in Cambridge, Massachusetts.\"\\n  },\\n  {\\n    \"title\": \"List of Fully Funded Masters Scholarships for International Students ...\",\\n    \"href\": \"https://scholarshiproar.com/list-of-fully-funded-masters-scholarships/\",\\n    \"body\": \"1. Yale University Scholarships USA. Yale University Scholarship is a fully funded scholarship for international students. This scholarship is offered for undergraduate, masters and PhD. Yale Scholarship can vary from a few hundred dollars to over $70,000 per year; the average Yale need-based scholarship is over $50,000.\"\\n  }\\n]', call_id='call_yimxZPoz6MEPPeYfBHpyPR3e', error=None)], system_prompt=None, instructions=None, run_id='0470c374-5934-4198-8cbc-5a9f68a3257f', frequency_penalty=None, logit_bias=None, logprobs=None, max_tokens=None, presence_penalty=None, seed=None, stop=None, temperature=None, top_logprobs=None, user=None, top_p=None, extra_headers=None, extra_query=None, request_params=None, api_key=None, organization=None, base_url=None, timeout=None, max_retries=None, default_headers=None, default_query=None, http_client=None, client_params=None, client=None, async_client=None, openai_client=None) introduction=None name=None assistant_data=None run_id='0470c374-5934-4198-8cbc-5a9f68a3257f' run_name=None run_data=None user_id=None user_data=None memory=AssistantMemory(chat_history=[Message(role='user', content='Recommend fully-funded graduate scholarships for international students', name=None, tool_call_id=None, tool_call_name=None, tool_call_error=False, tool_calls=None, metrics={}, internal_id=None, function_call=None), Message(role='assistant', content=\"Here are some fully-funded graduate scholarships for international students in 2024:\\n\\n1. **Yale University Scholarship**: This scholarship covers undergraduate, master's, and PhD programs, with awards ranging from hundreds to over $70,000 annually. [Learn more](https://www.studyinternational.com/news/international-scholarship/).\\n\\n2. **DAAD Research Grants**: For those pursuing research in Germany, these grants are available for doctoral or early postdoc projects, offering full funding. Deadline: April 3, 2025. [More details](https://www.scholarshiptab.com/postgraduate/fully-funded).\\n\\n3. **Harvard University Scholarship**: This prestigious scholarship provides full tuition and a living stipend for graduate students. [Find out more](https://globalscholarships.com/fully-funded-scholarships/).\\n\\n4. **Fully Funded Scholarships 2024-2025 List**: A comprehensive list of fully funded scholarships for various levels of study across multiple countries, including those that do not require an IELTS score. [Explore options](https://www.scholarshipsads.com/category/funding/fully-funded/).\\n\\n5. **Fully Funded Masters Scholarships List**: This resource details various master's scholarships available globally, including those at Yale. [Access the list](https://scholarshiproar.com/list-of-fully-funded-masters-scholarships/).\\n\\nThese scholarships offer a great opportunity for international students seeking financial support for their graduate studies.\", name=None, tool_call_id=None, tool_call_name=None, tool_call_error=False, tool_calls=None, metrics={}, internal_id=None, function_call=None)], llm_messages=[Message(role='system', content='You are a scholarship expert and your job is to do a web search to find latest scholarships or funding sources for students.\\nYou must follow these instructions carefully:\\n<instructions>\\n1. Always recommend up to 5 scholarships\\n2. Summarize your response in less than 250 words!\\n3. The current time is 2024-08-07 09:21:54.401604\\n</instructions>', name=None, tool_call_id=None, tool_call_name=None, tool_call_error=False, tool_calls=None, metrics={}, internal_id=None, function_call=None), Message(role='user', content='Respond to the following message from a user:\\nUSER: Recommend fully-funded graduate scholarships for international students\\n\\n\\nASSISTANT: ', name=None, tool_call_id=None, tool_call_name=None, tool_call_error=False, tool_calls=None, metrics={}, internal_id=None, function_call=None), Message(role='assistant', content=None, name=None, tool_call_id=None, tool_call_name=None, tool_call_error=False, tool_calls=[{'id': 'call_yimxZPoz6MEPPeYfBHpyPR3e', 'type': 'function', 'function': {'name': 'duckduckgo_search', 'arguments': '{\"query\":\"fully funded graduate scholarships for international students 2024\",\"max_results\":5}'}}], metrics={'time': 1.9940340416505933, 'prompt_tokens': 274, 'completion_tokens': 31, 'input_tokens': 274, 'output_tokens': 31, 'total_tokens': 305}, internal_id=None, function_call=None), Message(role='tool', content='[\\n  {\\n    \"title\": \"Fully Funded Scholarships 2024-2025 List - Updated\",\\n    \"href\": \"https://www.scholarshipsads.com/category/funding/fully-funded/\",\\n    \"body\": \"Discover a curated list of fully funded government scholarships for 2024 - 2025, tailored for international students and those aiming to study abroad without the IELTS requirement. These scholarships not only cover tuition but also accommodation and other academic-related expenses. From merit-based awards to university sponsorships, find opportunities suitable for undergraduates, postgraduates ...\"\\n  },\\n  {\\n    \"title\": \"8 international scholarships you can still apply for 2024 entry\",\\n    \"href\": \"https://www.studyinternational.com/news/international-scholarship/\",\\n    \"body\": \"The Yale University Scholarship for the academic year 2024 to 2025 is a fully funded scholarship for international students to join its undergraduate, master\\'s and PhD programmes. The value can vary from a few hundred dollars to over US$70,000 annually; the average Yale need-based scholarship is over US$50,000.\"\\n  },\\n  {\\n    \"title\": \"Fully Funded Postgraduate Scholarships For International Students 2024 ...\",\\n    \"href\": \"https://www.scholarshiptab.com/postgraduate/fully-funded\",\\n    \"body\": \"DAAD Research Grants in Germany Call for Application 2025 (Fully-funded) DAAD research grant offers the opportunity to realise a research project in Germany. The programme sup-ports research stays during a doctorate or in the early postdoc phase. Published: 31 Jul 2024 Type: Postgraduate Study in: Germany Deadline: 03 Apr 2025.\"\\n  },\\n  {\\n    \"title\": \"67 Fully Funded Scholarships for International Students\",\\n    \"href\": \"https://globalscholarships.com/fully-funded-scholarships/\",\\n    \"body\": \"Top Fully Funded Scholarships for International Students. 1. Harvard University Scholarship. Scholarship Link. Scholarship Amount for Master\\'s and PhD: Full tuition and a living stipend. Harvard University is a private Ivy League research university in Cambridge, Massachusetts.\"\\n  },\\n  {\\n    \"title\": \"List of Fully Funded Masters Scholarships for International Students ...\",\\n    \"href\": \"https://scholarshiproar.com/list-of-fully-funded-masters-scholarships/\",\\n    \"body\": \"1. Yale University Scholarships USA. Yale University Scholarship is a fully funded scholarship for international students. This scholarship is offered for undergraduate, masters and PhD. Yale Scholarship can vary from a few hundred dollars to over $70,000 per year; the average Yale need-based scholarship is over $50,000.\"\\n  }\\n]', name=None, tool_call_id='call_yimxZPoz6MEPPeYfBHpyPR3e', tool_call_name='duckduckgo_search', tool_call_error=False, tool_calls=None, metrics={'time': 1.472785625141114}, internal_id=None, function_call=None), Message(role='assistant', content=\"Here are some fully-funded graduate scholarships for international students in 2024:\\n\\n1. **Yale University Scholarship**: This scholarship covers undergraduate, master's, and PhD programs, with awards ranging from hundreds to over $70,000 annually. [Learn more](https://www.studyinternational.com/news/international-scholarship/).\\n\\n2. **DAAD Research Grants**: For those pursuing research in Germany, these grants are available for doctoral or early postdoc projects, offering full funding. Deadline: April 3, 2025. [More details](https://www.scholarshiptab.com/postgraduate/fully-funded).\\n\\n3. **Harvard University Scholarship**: This prestigious scholarship provides full tuition and a living stipend for graduate students. [Find out more](https://globalscholarships.com/fully-funded-scholarships/).\\n\\n4. **Fully Funded Scholarships 2024-2025 List**: A comprehensive list of fully funded scholarships for various levels of study across multiple countries, including those that do not require an IELTS score. [Explore options](https://www.scholarshipsads.com/category/funding/fully-funded/).\\n\\n5. **Fully Funded Masters Scholarships List**: This resource details various master's scholarships available globally, including those at Yale. [Access the list](https://scholarshiproar.com/list-of-fully-funded-masters-scholarships/).\\n\\nThese scholarships offer a great opportunity for international students seeking financial support for their graduate studies.\", name=None, tool_call_id=None, tool_call_name=None, tool_call_error=False, tool_calls=None, metrics={'time': 3.8503366662189364, 'time_to_first_token': '1.6221s', 'time_per_output_token': '0.0128s', 'prompt_tokens': 866, 'completion_tokens': 300, 'input_tokens': 866, 'output_tokens': 300, 'total_tokens': 1166}, internal_id=None, function_call=None)], references=[References(query='Recommend fully-funded graduate scholarships for international students', references=None, time=0.0003)], db=None, user_id=None, retrieval=<MemoryRetrieval.last_n: 'last_n'>, memories=None, num_memories=None, classifier=None, manager=None, updating=False) add_chat_history_to_messages=False add_chat_history_to_prompt=False num_history_messages=6 create_memories=False update_memory_after_run=True knowledge_base=None add_references_to_prompt=True storage=None db_row=None tools=[<DuckDuckGo name=duckduckgo functions=['duckduckgo_search', 'duckduckgo_news']>] show_tool_calls=False tool_call_limit=None tool_choice=None read_chat_history=False search_knowledge=False update_knowledge=False read_tool_call_history=False use_tools=False additional_messages=None system_prompt=None system_prompt_template=None build_default_system_prompt=True description='You are a scholarship expert and your job is to do a web search to find latest scholarships or funding sources for students.' task=None instructions=['Always recommend up to 5 scholarships', 'Summarize your response in less than 250 words!'] extra_instructions=None expected_output=None add_to_system_prompt=None add_knowledge_base_instructions=True prevent_hallucinations=False prevent_prompt_injection=False limit_tool_access=False add_datetime_to_instructions=True markdown=False user_prompt=None user_prompt_template=None build_default_user_prompt=True references_function=None references_format='json' chat_history_function=None output_model=None parse_output=True output=\"Here are some fully-funded graduate scholarships for international students in 2024:\\n\\n1. **Yale University Scholarship**: This scholarship covers undergraduate, master's, and PhD programs, with awards ranging from hundreds to over $70,000 annually. [Learn more](https://www.studyinternational.com/news/international-scholarship/).\\n\\n2. **DAAD Research Grants**: For those pursuing research in Germany, these grants are available for doctoral or early postdoc projects, offering full funding. Deadline: April 3, 2025. [More details](https://www.scholarshiptab.com/postgraduate/fully-funded).\\n\\n3. **Harvard University Scholarship**: This prestigious scholarship provides full tuition and a living stipend for graduate students. [Find out more](https://globalscholarships.com/fully-funded-scholarships/).\\n\\n4. **Fully Funded Scholarships 2024-2025 List**: A comprehensive list of fully funded scholarships for various levels of study across multiple countries, including those that do not require an IELTS score. [Explore options](https://www.scholarshipsads.com/category/funding/fully-funded/).\\n\\n5. **Fully Funded Masters Scholarships List**: This resource details various master's scholarships available globally, including those at Yale. [Access the list](https://scholarshiproar.com/list-of-fully-funded-masters-scholarships/).\\n\\nThese scholarships offer a great opportunity for international students seeking financial support for their graduate studies.\" save_output_to_file=None task_data=None team=None role=None add_delegation_instructions=True debug_mode=False monitoring=False\n"
     ]
    }
   ],
   "source": [
    "print(assistant)"
   ]
  }
 ],
 "metadata": {
  "kernelspec": {
   "display_name": "venv",
   "language": "python",
   "name": "python3"
  },
  "language_info": {
   "codemirror_mode": {
    "name": "ipython",
    "version": 3
   },
   "file_extension": ".py",
   "mimetype": "text/x-python",
   "name": "python",
   "nbconvert_exporter": "python",
   "pygments_lexer": "ipython3",
   "version": "3.11.9"
  }
 },
 "nbformat": 4,
 "nbformat_minor": 2
}
